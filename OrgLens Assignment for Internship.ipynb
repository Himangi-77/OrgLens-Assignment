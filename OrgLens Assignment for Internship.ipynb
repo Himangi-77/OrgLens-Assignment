{
 "cells": [
  {
   "cell_type": "markdown",
   "id": "54f443fb",
   "metadata": {},
   "source": [
    "### 1. Read a CSV file, assume there are two fields, Name and Mark, with around 10 rows filled. Calculate the Mean, Variance and Standard deviation, write it to the CSV and save it. Also plot a graph of these values and mark the mean and SD on it. [Don’t use any standard library functions for SD/mean etc. Also, you can’t use Pandas]"
   ]
  },
  {
   "cell_type": "code",
   "execution_count": null,
   "id": "11197b19",
   "metadata": {},
   "outputs": [],
   "source": [
    "import csv\n",
    "import math\n",
    "import matplotlib.pyplot as plt\n",
    "\n",
    "# Read CSV file\n",
    "filename = 'data.csv'\n",
    "rows = []\n",
    "with open(filename, 'r') as file:\n",
    "    reader = csv.DictReader(file)\n",
    "    for row in reader:\n",
    "        rows.append(row)\n",
    "\n",
    "# Calculate mean\n",
    "marks = [int(row['Mark']) for row in rows]\n",
    "mean = sum(marks) / len(marks)\n",
    "\n",
    "# Calculate variance\n",
    "variance = sum((x - mean) ** 2 for x in marks) / len(marks)\n",
    "\n",
    "# Calculate standard deviation\n",
    "std_dev = math.sqrt(variance)\n",
    "\n",
    "# Write results to CSV file\n",
    "output_filename = 'stats.csv'\n",
    "with open(output_filename, 'w', newline='') as file:\n",
    "    writer = csv.writer(file)\n",
    "    writer.writerow(['Statistic', 'Value'])\n",
    "    writer.writerow(['Mean', mean])\n",
    "    writer.writerow(['Variance', variance])\n",
    "    writer.writerow(['Standard Deviation', std_dev])\n",
    "\n",
    "# Plot graph with mean and SD\n",
    "plt.hist(marks, bins=10)\n",
    "plt.axvline(x=mean, color='r', linestyle='--', label='Mean')\n",
    "plt.axvline(x=mean-std_dev, color='g', linestyle='--', label='SD')\n",
    "plt.axvline(x=mean+std_dev, color='g', linestyle='--')\n",
    "plt.legend()\n",
    "plt.show()"
   ]
  },
  {
   "cell_type": "markdown",
   "id": "72bcce92",
   "metadata": {},
   "source": [
    "### 2. Get a number, Make the 2 MSBs one. Print the result – both as decimal and binary"
   ]
  },
  {
   "cell_type": "code",
   "execution_count": 3,
   "id": "337257b4",
   "metadata": {},
   "outputs": [
    {
     "name": "stdout",
     "output_type": "stream",
     "text": [
      "Enter a number: 12\n",
      "Afrer making 2 MSBs one:-\n",
      "Result in decimal: 204\n",
      "Result in binary:  0b11001100\n"
     ]
    }
   ],
   "source": [
    "# Get input number\n",
    "num = int(input(\"Enter a number: \"))\n",
    "\n",
    "# Make 2 MSBs one\n",
    "result = num | 0b11000000\n",
    "\n",
    "# Print result in decimal and binary\n",
    "print(\"Afrer making 2 MSBs one:-\")\n",
    "print(f\"Result in decimal: {result}\")\n",
    "print(f\"Result in binary:  {bin(result)}\")"
   ]
  },
  {
   "cell_type": "markdown",
   "id": "a4ab9633",
   "metadata": {},
   "source": [
    "### 3. A shopkeeper want to give his clients the balance amount with minimum number of notes.  Write a program to find out the notes and their counts, so that the total number of notes is  minimum. Eg: If he has entered 1339, the system should display"
   ]
  },
  {
   "cell_type": "code",
   "execution_count": 5,
   "id": "9a598e90",
   "metadata": {},
   "outputs": [
    {
     "name": "stdout",
     "output_type": "stream",
     "text": [
      "Enter balance amount: 155\n",
      "Minimum number of notes:\n",
      "100: 1\n",
      "50: 1\n",
      "5: 1\n"
     ]
    }
   ],
   "source": [
    "# Get input balance amount\n",
    "amount = int(input(\"Enter balance amount: \"))\n",
    "\n",
    "# Define list of available notes and their values\n",
    "notes = [2000, 500, 200, 100, 50, 20, 10, 5, 2, 1]\n",
    "\n",
    "# Initialize list of note counts with zeros\n",
    "note_counts = [0] * len(notes)\n",
    "\n",
    "# Loop through notes and update note counts\n",
    "for i, note in enumerate(notes):\n",
    "    while amount >= note:\n",
    "        note_counts[i] += 1\n",
    "        amount -= note\n",
    "\n",
    "# Print note counts\n",
    "print(\"Minimum number of notes:\")\n",
    "for note, count in zip(notes, note_counts):\n",
    "    if count > 0:\n",
    "        print(f\"{note}: {count}\")\n"
   ]
  },
  {
   "cell_type": "markdown",
   "id": "036c8fa9",
   "metadata": {},
   "source": [
    "### 4. Caesar cipher is a method to encrypt (make a secret code) a string. It is achieved by advancing each digit n places. Write a program to read a text file, get the string and encrypt it first using Caesar and then XORing with a salt and write it back to \n",
    "<filename>_enc.txt.\n",
    " Eg: abcd\n",
    " places to shift: 3\n",
    " Encrypted Caesar String: defg\n",
    " Now encrypt it with a salt lets say ‘abc’"
   ]
  },
  {
   "cell_type": "code",
   "execution_count": 10,
   "id": "7479673e",
   "metadata": {},
   "outputs": [
    {
     "name": "stdout",
     "output_type": "stream",
     "text": [
      "Enter filename: blockchain-in-fintech.txt\n",
      "Enter shift: 3\n",
      "Enter salt: abc\n",
      "Encrypted text written to blockchain-in-fintech_enc.txt\n"
     ]
    }
   ],
   "source": [
    "# Define function to encrypt string using Caesar cipher\n",
    "def caesar_cipher(text, shift):\n",
    "    encrypted_text = \"\"\n",
    "    for char in text:\n",
    "        if char.isalpha():\n",
    "            # Shift character by specified amount\n",
    "            shifted_char = chr((ord(char) - 65 + shift) % 26 + 65)\n",
    "            encrypted_text += shifted_char\n",
    "        else:\n",
    "            encrypted_text += char\n",
    "    return encrypted_text\n",
    "\n",
    "# Define function to encrypt string using XOR with a salt\n",
    "def xor_cipher(text, salt):\n",
    "    encrypted_text = \"\"\n",
    "    for i, char in enumerate(text):\n",
    "        encrypted_char = chr(ord(char) ^ ord(salt[i % len(salt)]))\n",
    "        encrypted_text += encrypted_char\n",
    "    return encrypted_text\n",
    "\n",
    "# Get input filename and read file contents\n",
    "filename = input(\"Enter filename: \")\n",
    "with open(filename, \"r\", encoding=\"utf-8\") as file:\n",
    "    plaintext = file.read()\n",
    "\n",
    "# Get input shift and encrypt using Caesar cipher\n",
    "shift = int(input(\"Enter shift: \"))\n",
    "caesar_text = caesar_cipher(plaintext, shift)\n",
    "\n",
    "# Get input salt and encrypt using XOR cipher\n",
    "salt = input(\"Enter salt: \")\n",
    "xor_text = xor_cipher(caesar_text, salt)\n",
    "\n",
    "# Write encrypted text to output file\n",
    "output_filename = filename.split(\".\")[0] + \"_enc.txt\"\n",
    "with open(output_filename, \"w\", encoding=\"utf-8\") as file:\n",
    "    file.write(xor_text)\n",
    "\n",
    "print(f\"Encrypted text written to {output_filename}\")"
   ]
  },
  {
   "cell_type": "markdown",
   "id": "f00084e6",
   "metadata": {},
   "source": [
    "### 5. Calculate Cos (x) using Maclaurin Series and plot the series with matplotlib You should implement a package mymath and import that. Don’t use any of the prebuilt libraries for finding power or factorial."
   ]
  },
  {
   "cell_type": "code",
   "execution_count": 4,
   "id": "5338087c",
   "metadata": {},
   "outputs": [
    {
     "data": {
      "image/png": "[encoded data removed]",
      "text/plain": [
       "<Figure size 432x288 with 1 Axes>"
      ]
     },
     "metadata": {
      "needs_background": "light"
     },
     "output_type": "display_data"
    }
   ],
   "source": [
    "import matplotlib.pyplot as plt\n",
    "\n",
    "def power(x, n):\n",
    "    \"\"\"\n",
    "    Calculates x^n using recursion\n",
    "    \"\"\"\n",
    "    if n == 0:\n",
    "        return 1\n",
    "    elif n % 2 == 0:\n",
    "        y = power(x, n//2)\n",
    "        return y*y\n",
    "    else:\n",
    "        y = power(x, (n-1)//2)\n",
    "        return x*y*y\n",
    "\n",
    "def factorial(n):\n",
    "    \"\"\"\n",
    "    Calculates n! using recursion\n",
    "    \"\"\"\n",
    "    if n == 0 or n == 1:\n",
    "        return 1\n",
    "    else:\n",
    "        return n * factorial(n-1)\n",
    "\n",
    "def cos(x):\n",
    "    \"\"\"\n",
    "    Calculates cos(x) using Maclaurin series\n",
    "    \"\"\"\n",
    "    result = 1\n",
    "    sign = -1\n",
    "    for i in range(2, 20, 2):\n",
    "        term = power(x, i) / factorial(i)\n",
    "        result += sign * term\n",
    "        sign *= -1\n",
    "    return result\n",
    "\n",
    "# Calculate cos(x) using Maclaurin series\n",
    "x_values = range(-10, 10)\n",
    "cos_values = [cos(x) for x in x_values]\n",
    "\n",
    "# Plot the series using matplotlib\n",
    "plt.plot(x_values, cos_values)\n",
    "plt.title(\"Cosine Function using Maclaurin Series\")\n",
    "plt.xlabel(\"x\")\n",
    "plt.ylabel(\"cos(x)\")\n",
    "plt.show()\n"
   ]
  },
  {
   "cell_type": "markdown",
   "id": "7149c83e",
   "metadata": {},
   "source": [
    "### 6. Write a program to compare two JSONS which are structurally similar. The output should be another JSON which contains the tags that has different values. You may expect the JSONS can have nested structures."
   ]
  },
  {
   "cell_type": "code",
   "execution_count": 5,
   "id": "d2f3a914",
   "metadata": {},
   "outputs": [
    {
     "name": "stdout",
     "output_type": "stream",
     "text": [
      "{\n",
      "    \"x\": {\n",
      "        \"json1\": 10.1,\n",
      "        \"json2\": 10\n",
      "    },\n",
      "    \"name\": {\n",
      "        \"json1\": \"Anu\",\n",
      "        \"json2\": \"Ani\"\n",
      "    },\n",
      "    \"dob\": {\n",
      "        \"json1\": \"2010-10-10\",\n",
      "        \"json2\": \"2010-10-11\"\n",
      "    },\n",
      "    \"z\": \"Only in 2\"\n",
      "}\n"
     ]
    }
   ],
   "source": [
    "import json\n",
    "\n",
    "def compare_json(json1, json2):\n",
    "    \"\"\"\n",
    "    Compares two JSONs and returns another JSON containing the tags that have different values\n",
    "    \"\"\"\n",
    "    result = {}\n",
    "    for key in json1:\n",
    "        if key not in json2:\n",
    "            result[key] = \"Only in 1\"\n",
    "        elif isinstance(json1[key], dict) and isinstance(json2[key], dict):\n",
    "            sub_result = compare_json(json1[key], json2[key])\n",
    "            if sub_result != {}:\n",
    "                result[key] = sub_result\n",
    "        elif json1[key] != json2[key]:\n",
    "            result[key] = {\"json1\": json1[key], \"json2\": json2[key]}\n",
    "    for key in json2:\n",
    "        if key not in json1:\n",
    "            result[key] = \"Only in 2\"\n",
    "    return result\n",
    "\n",
    "# Sample JSONs for testing\n",
    "json1 = {\n",
    "    \"x\": 10.1,\n",
    "    \"y\": 20,\n",
    "    \"name\": \"Anu\",\n",
    "    \"dob\": \"2010-10-10\"\n",
    "}\n",
    "json2 = {\n",
    "    \"x\": 10,\n",
    "    \"y\": 20,\n",
    "    \"name\": \"Ani\",\n",
    "    \"dob\": \"2010-10-11\",\n",
    "    \"z\": 100\n",
    "}\n",
    "\n",
    "# Compare the JSONs and print the result\n",
    "result = compare_json(json1, json2)\n",
    "print(json.dumps(result, indent=4))"
   ]
  },
  {
   "cell_type": "code",
   "execution_count": null,
   "id": "b46883c3",
   "metadata": {},
   "outputs": [],
   "source": []
  }
 ],
 "metadata": {
  "kernelspec": {
   "display_name": "Python 3 (ipykernel)",
   "language": "python",
   "name": "python3"
  },
  "language_info": {
   "codemirror_mode": {
    "name": "ipython",
    "version": 3
   },
   "file_extension": ".py",
   "mimetype": "text/x-python",
   "name": "python",
   "nbconvert_exporter": "python",
   "pygments_lexer": "ipython3",
   "version": "3.9.12"
  }
 },
 "nbformat": 4,
 "nbformat_minor": 5
}
